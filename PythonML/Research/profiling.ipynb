{
 "nbformat": 4,
 "nbformat_minor": 2,
 "metadata": {
  "language_info": {
   "name": "python",
   "codemirror_mode": {
    "name": "ipython",
    "version": 3
   },
   "version": "3.7.3-final"
  },
  "orig_nbformat": 2,
  "file_extension": ".py",
  "mimetype": "text/x-python",
  "name": "python",
  "npconvert_exporter": "python",
  "pygments_lexer": "ipython3",
  "version": 3,
  "kernelspec": {
   "name": "python3",
   "display_name": "Python 3"
  }
 },
 "cells": [
  {
   "source": [
    "import numpy as np\n",
    "import pandas as pd\n",
    "from pandas_profiling import ProfileReport\n",
    ""
   ],
   "cell_type": "code",
   "outputs": [],
   "metadata": {},
   "execution_count": 2
  },
  {
   "source": [
    "raceAnalyseDf = pd.read_csv(\"Data/Race_Analasis_Dataset.csv\")\n",
    "TeamAnalyse = pd.read_csv(\"Data/Team_Analasis_Dataset.csv\")\n",
    "CompetitionAnalyseDF = pd.read_csv(\"Data/Competition_Analasis_Dataset.csv\")\n",
    "\n",
    "raceDF = pd.read_csv(\"Data/Race_Dataset.csv\")\n",
    "competitionDf = pd.read_csv(\"Data/Competition_Dataset.csv\")\n",
    "raceTeamDf = pd.read_csv(\"Data/Race_Team_Dataset.csv\")\n"
   ],
   "cell_type": "code",
   "outputs": [],
   "metadata": {},
   "execution_count": 25
  },
  {
   "source": [
    "df = pd.merge(CompetitionAnalyseDF,raceAnalyseDf,on=\"Competition_ID\")\n",
    "df = pd.merge(df,raceDF)\n",
    "df = pd.merge(df,competitionDf)\n",
    "df = pd.merge(df,raceTeamDf)\n",
    "df = pd.merge(df,TeamAnalyse)\n",
    "\n",
    "\n",
    "df  = df.drop([\"Competition_ID\",\"Race_ID\",\"Team_ID\",\"Date\"],1)"
   ],
   "cell_type": "code",
   "outputs": [],
   "metadata": {},
   "execution_count": 36
  },
  {
   "source": [
    "CompetitionRaceProfile = ProfileReport(df, title='CompetitionRaceProfile Profiling Report', html={'style':{'full_width':True}})\n",
    "CompetitionRaceProfile.to_file(output_file=\"CompetitionRaceProfilingReport.html\")"
   ],
   "cell_type": "code",
   "outputs": [],
   "metadata": {},
   "execution_count": 37
  },
  {
   "cell_type": "code",
   "execution_count": null,
   "metadata": {},
   "outputs": [],
   "source": []
  }
 ]
}