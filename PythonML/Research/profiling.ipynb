{
 "cells": [
  {
   "source": [
    "import numpy as np\n",
    "import pandas as pd\n",
    "from pandas_profiling import ProfileReport\n",
    ""
   ],
   "cell_type": "code",
   "outputs": [
    {
     "output_type": "error",
     "ename": "ModuleNotFoundError",
     "evalue": "No module named 'pandas_profiling'",
     "traceback": [
      "\u001b[1;31m---------------------------------------------------------------------------\u001b[0m",
      "\u001b[1;31mModuleNotFoundError\u001b[0m                       Traceback (most recent call last)",
      "\u001b[1;32m<ipython-input-1-c03a24be5f20>\u001b[0m in \u001b[0;36m<module>\u001b[1;34m\u001b[0m\n\u001b[0;32m      1\u001b[0m \u001b[1;32mimport\u001b[0m \u001b[0mnumpy\u001b[0m \u001b[1;32mas\u001b[0m \u001b[0mnp\u001b[0m\u001b[1;33m\u001b[0m\u001b[1;33m\u001b[0m\u001b[0m\n\u001b[0;32m      2\u001b[0m \u001b[1;32mimport\u001b[0m \u001b[0mpandas\u001b[0m \u001b[1;32mas\u001b[0m \u001b[0mpd\u001b[0m\u001b[1;33m\u001b[0m\u001b[1;33m\u001b[0m\u001b[0m\n\u001b[1;32m----> 3\u001b[1;33m \u001b[1;32mfrom\u001b[0m \u001b[0mpandas_profiling\u001b[0m \u001b[1;32mimport\u001b[0m \u001b[0mProfileReport\u001b[0m\u001b[1;33m\u001b[0m\u001b[1;33m\u001b[0m\u001b[0m\n\u001b[0m",
      "\u001b[1;31mModuleNotFoundError\u001b[0m: No module named 'pandas_profiling'"
     ]
    }
   ],
   "metadata": {},
   "execution_count": 1
  },
  {
   "source": [
    "raceAnalyseDf = pd.read_csv(\"Data/Race_Analasis_Dataset.csv\")\n",
    "TeamAnalyse = pd.read_csv(\"Data/Team_Analasis_Dataset.csv\")\n",
    "CompetitionAnalyseDF = pd.read_csv(\"Data/Competition_Analasis_Dataset.csv\")\n",
    "\n",
    "raceDF = pd.read_csv(\"Data/Race_Dataset.csv\")\n",
    "competitionDf = pd.read_csv(\"Data/Competition_Dataset.csv\")\n",
    "raceTeamDf = pd.read_csv(\"Data/Race_Team_Dataset.csv\")\n"
   ],
   "cell_type": "code",
   "outputs": [],
   "metadata": {},
   "execution_count": 25
  },
  {
   "source": [
    "df = pd.merge(CompetitionAnalyseDF,raceAnalyseDf,on=\"Competition_ID\")\n",
    "df = pd.merge(df,raceDF)\n",
    "df = pd.merge(df,competitionDf)\n",
    "df = pd.merge(df,raceTeamDf)\n",
    "df = pd.merge(df,TeamAnalyse)\n",
    "\n",
    "\n",
    "df  = df.drop([\"Competition_ID\",\"Race_ID\",\"Team_ID\",\"Date\"],1)"
   ],
   "cell_type": "code",
   "outputs": [],
   "metadata": {},
   "execution_count": 36
  },
  {
   "source": [
    "CompetitionRaceProfile = ProfileReport(df, title='CompetitionRaceProfile Profiling Report', html={'style':{'full_width':True}})\n",
    "CompetitionRaceProfile.to_file(output_file=\"CompetitionRaceProfilingReport.html\")"
   ],
   "cell_type": "code",
   "outputs": [],
   "metadata": {},
   "execution_count": 37
  },
  {
   "cell_type": "code",
   "execution_count": null,
   "metadata": {},
   "outputs": [],
   "source": []
  }
 ],
 "metadata": {
  "language_info": {
   "name": "python",
   "codemirror_mode": {
    "name": "ipython",
    "version": 3
   },
   "version": "3.7.0-final"
  },
  "orig_nbformat": 2,
  "file_extension": ".py",
  "mimetype": "text/x-python",
  "name": "python",
  "npconvert_exporter": "python",
  "pygments_lexer": "ipython3",
  "version": 3,
  "kernelspec": {
   "name": "python3",
   "display_name": "Python 3"
  }
 },
 "nbformat": 4,
 "nbformat_minor": 2
}