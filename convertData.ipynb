{
 "cells": [
  {
   "cell_type": "code",
   "execution_count": 3,
   "metadata": {},
   "outputs": [],
   "source": [
    "import pandas as pd\n",
    "import numpy as np\n",
    "from datetime import datetime\n",
    "import time"
   ]
  },
  {
   "cell_type": "code",
   "execution_count": 4,
   "metadata": {},
   "outputs": [],
   "source": [
    "def splitDateInColumns(df):\n",
    "    for index, row in df.iterrows():\n",
    "        date_object = row[\"Date\"]\n",
    "        df.at[index, 'Day'] = date_object.day\n",
    "        df.at[index, 'Month'] = date_object.month\n",
    "        df.at[index, 'Year'] = date_object.year\n",
    "\n",
    "    return df"
   ]
  },
  {
   "cell_type": "code",
   "execution_count": 5,
   "metadata": {},
   "outputs": [],
   "source": [
    "# Solution from : https://stackoverflow.com/questions/32854677/how-to-deal-with-multiple-date-string-formats-in-a-python-series\n",
    "def timeToSeconds(timestr):\n",
    "    for fmt in (\"%M:%S.%f\", \"%S.%f\", \"%S:%f\", \"%M:%S:%f\"):\n",
    "        try:\n",
    "            t = datetime.strptime(timestr, fmt)\n",
    "            seconds = (t.minute * 60) + t.second + (t.microsecond * 1e-6)\n",
    "            return round(seconds)\n",
    "            break\n",
    "        except ValueError:\n",
    "            pass"
   ]
  },
  {
   "cell_type": "code",
   "execution_count": 6,
   "metadata": {},
   "outputs": [],
   "source": [
    "def createTeams(df):\n",
    "    for index, row in df.iterrows():\n",
    "        person1 = row[\"Person 1\"].upper()\n",
    "        person2 = row[\"Person 2\"].upper()\n",
    "        team = (person1 + \"_\" + person2).replace(\" \",\"\")\n",
    "        team = team.replace(\",\",\"\")\n",
    "        df.at[index,\"Team\"]  = team\n",
    "    return df\n",
    "    "
   ]
  },
  {
   "cell_type": "code",
   "execution_count": 7,
   "metadata": {},
   "outputs": [],
   "source": [
    "def cleanColumns(df):\n",
    "    #df.info()\n",
    "    df = df.dropna(subset=['Date', 'Person 1', 'Person 2','split time 1','split time 2','split time 3', 'Total Time'])\n",
    "\n",
    "    for index,row in df.iterrows():\n",
    "        df.at[index,\"Date\"] = row[\"Date\"] + \" \" + row[\"Time\"]\n",
    "\n",
    "    df['Date'] = pd.to_datetime(df['Date'])\n",
    "\n",
    "    df.set_index(\"Date\")\n",
    "    df = df.sort_index()\n",
    "\n",
    "    df.info()\n",
    "\n",
    "    return df"
   ]
  },
  {
   "cell_type": "code",
   "execution_count": 8,
   "metadata": {},
   "outputs": [],
   "source": [
    "def addTimeToDateIndex(df):\n",
    "    for index,row in df.iterrows():\n",
    "        timeObj = datetime.strptime(row[\"Time\"],'%H:%M')\n",
    "        df.at[index,\"Date\"] = datetime.datetime.combine(row[\"Date\"],timeObj)\n",
    "    return df "
   ]
  },
  {
   "cell_type": "code",
   "execution_count": 9,
   "metadata": {},
   "outputs": [],
   "source": [
    "def convertTimes(df):\n",
    "    for index, row in df.iterrows():\n",
    "        df.at[index, \"split time 1\"] = timeToSeconds(row[\"split time 1\"])\n",
    "        df.at[index, \"split time 2\"] = timeToSeconds(row[\"split time 2\"])\n",
    "        df.at[index, \"split time 3\"] = timeToSeconds(row[\"split time 3\"])\n",
    "        df.at[index, \"Total Time\"] = timeToSeconds(row[\"Total Time\"])\n",
    "    return df\n"
   ]
  },
  {
   "cell_type": "code",
   "execution_count": 10,
   "metadata": {},
   "outputs": [],
   "source": [
    "def createCompetitionColumns(df):\n",
    "    df = pd.get_dummies(df,columns=['Competiton Type','Competition Round'], dtype=bool)\n",
    "    return df"
   ]
  },
  {
   "cell_type": "code",
   "execution_count": 12,
   "metadata": {},
   "outputs": [],
   "source": [
    "def create_DeltaTimes(df):\n",
    "   for index, row in df.iterrows():\n",
    "      df.at[index,\"D0_250\"] = row[\"split time 1\"]\n",
    "      df.at[index,\"D250_500\"] = pd.to_numeric(row[\"split time 2\"])-pd.to_numeric(row[\"split time 1\"])\n",
    "      df.at[index,\"D500_750\"] = pd.to_numeric(row[\"split time 3\"])-pd.to_numeric(row[\"split time 2\"])\n",
    "      df.at[index,\"D750_1000\"] = pd.to_numeric(row[\"Total Time\"])-pd.to_numeric(row[\"split time 3\"])\n",
    "\n",
    "   #print(df.head())\n",
    "   return df\n"
   ]
  },
  {
   "cell_type": "code",
   "execution_count": 11,
   "metadata": {},
   "outputs": [
    {
     "ename": "SyntaxError",
     "evalue": "invalid syntax (<ipython-input-11-cc1662bc6811>, line 1)",
     "output_type": "error",
     "traceback": [
      "\u001b[0;36m  File \u001b[0;32m\"<ipython-input-11-cc1662bc6811>\"\u001b[0;36m, line \u001b[0;32m1\u001b[0m\n\u001b[0;31m    def create_tactic_columns:\u001b[0m\n\u001b[0m                             ^\u001b[0m\n\u001b[0;31mSyntaxError\u001b[0m\u001b[0;31m:\u001b[0m invalid syntax\n"
     ]
    }
   ],
   "source": [
    "def create_tactic_columns:\n",
    "    #Fast/Neutral/Slow Start?\n",
    "    #Fast/Neutral/Slow  Middle?\n",
    "    #Fast/Neutral/Slow End? "
   ]
  },
  {
   "cell_type": "code",
   "execution_count": 13,
   "metadata": {},
   "outputs": [],
   "source": [
    "def createPb_TimecurrentSeason(df):\n",
    "    for index, row in df.iterrows():\n",
    "        #Verkrijg alle resultaten voor deze datum en van hetzelfde jaar \n",
    "        results = df[(df[\"Year\"] == row[\"Year\"]) & (df[\"Date\"] < row[\"Date\"]) & (df[\"Team\"]==row[\"Team\"])].sort_values(\"Total Time\")\n",
    "        if(results.shape[0] > 0):\n",
    "            bestTime = results[\"Total Time\"].iloc[0]\n",
    "            df.at[index,\"BestSeasonTime\"] = bestTime\n",
    "        else: \n",
    "            bestTime = row[\"Total Time\"]\n",
    "            df.at[index,\"BestSeasonTime\"] = bestTime\n",
    "    return df\n",
    "    "
   ]
  },
  {
   "cell_type": "code",
   "execution_count": null,
   "metadata": {},
   "outputs": [],
   "source": [
    "def create_Pb_Rank_currentSeason():"
   ]
  },
  {
   "cell_type": "code",
   "execution_count": 14,
   "metadata": {},
   "outputs": [],
   "source": [
    "def create_Reached_FinalA(df):\n",
    "    #Loop over elke row\n",
    "    for index, row in df.iterrows():\n",
    "        #check of ploeg in row i in de a finale komt\n",
    "        dataCount = df[(df[\"Competition Round_FINAL A\"] == True) & (df[\"Year\"] == row[\"Year\"]) & (df[\"Place\"] == row[\"Place\"]) & (df[\"Team\"] == row[\"Team\"])].shape[0]\n",
    "        #als ploeg in de a finale geraakt\n",
    "        if(dataCount >= 1):\n",
    "            df.at[index,\"Reached_FINAL_A\"] = True\n",
    "        else: \n",
    "            df.at[index,\"Reached_FINAL_A\"] = False        \n",
    "    return df\n",
    "            "
   ]
  },
  {
   "cell_type": "code",
   "execution_count": 21,
   "metadata": {},
   "outputs": [],
   "source": [
    "def create_Reached_Semi(df):\n",
    "    #Loop over elke row\n",
    "    for index, row in df.iterrows():\n",
    "        #check of ploeg in row i in de Semi komt\n",
    "        dataCount = df.loc[(df[\"Competition Round_SEMIFINAL\"] == True) & (df[\"Year\"] == row[\"Year\"]) & (df[\"Place\"] == row[\"Place\"]) & (df[\"Team\"] == row[\"Team\"])].shape[0]\n",
    "        #als ploeg in de a finale geraakt\n",
    "        if(dataCount >= 1):\n",
    "            df.at[index,\"Reached_SEMI\"] = True\n",
    "        else: \n",
    "            df.at[index,\"Reached_SEMI\"] = False        \n",
    "    return df"
   ]
  },
  {
   "cell_type": "code",
   "execution_count": 15,
   "metadata": {},
   "outputs": [],
   "source": [
    "def create_count_FinalA_currentSeason(df):\n",
    "    for index, row in df.iterrows():\n",
    "        #Verkrijg alle resultaten voor deze datum en van hetzelfde jaar \n",
    "        results = df[(df[\"Year\"] == row[\"Year\"]) & (df[\"Date\"] < row[\"Date\"]) & (df[\"Team\"]==row[\"Team\"]) & (df[\"Competition Round_FINAL A\"] == True)].shape[0]\n",
    "        df.at[index,\"FinalA_count_Season\"] = results\n",
    "    return df"
   ]
  },
  {
   "cell_type": "code",
   "execution_count": 16,
   "metadata": {},
   "outputs": [],
   "source": [
    "def getFastestTimeInRace(df):\n",
    "    dfc = df.groupby(\"Date\")[\"Total Time\"]\n",
    "    df = df.assign(N1Time=dfc.transform(min))\n",
    "    return df"
   ]
  },
  {
   "cell_type": "code",
   "execution_count": 17,
   "metadata": {},
   "outputs": [],
   "source": [
    "def getAverageTimeofRace(df):\n",
    "    dfc = df.groupby(\"Date\")[\"Total Time\"]\n",
    "    "
   ]
  },
  {
   "cell_type": "code",
   "execution_count": 18,
   "metadata": {},
   "outputs": [],
   "source": [
    "def dropColumns(df):\n",
    "    df = df.drop(columns=[\"Person 1\", \"Person 2\",\"Wind Speed\", \"Wind Direction\",\"Sex\",\"Category\"],axis=1)\n",
    "    return df"
   ]
  },
  {
   "cell_type": "code",
   "execution_count": 19,
   "metadata": {},
   "outputs": [],
   "source": [
    "def createAVGTIMETOP3(df):\n",
    "    filterTop3= df[(df[\"Final Rank\"] < 4)]\n",
    "    filterTop3[\"Total Time\"] = pd.to_numeric(filterTop3[\"Total Time\"])\n",
    "    groupbyRace = filterTop3.groupby(\"Date\")[\"Total Time\"].avg().to_frame(name=\"Top3Avg\").reset_index()\n",
    "    df = pd.merge(df,groupbyRace,how=\"outer\")\n",
    "\n",
    "    print(filterTop3.dtypes)\n",
    "    return df\n",
    "  \n",
    "    \n"
   ]
  },
  {
   "cell_type": "code",
   "execution_count": 22,
   "metadata": {},
   "outputs": [
    {
     "name": "stderr",
     "output_type": "stream",
     "text": "/Users/BramSikkens/anaconda3/lib/python3.7/site-packages/ipykernel_launcher.py:8: SettingWithCopyWarning: \nA value is trying to be set on a copy of a slice from a DataFrame.\nTry using .loc[row_indexer,col_indexer] = value instead\n\nSee the caveats in the documentation: http://pandas.pydata.org/pandas-docs/stable/indexing.html#indexing-view-versus-copy\n  \n<class 'pandas.core.frame.DataFrame'>\nInt64Index: 440 entries, 0 to 542\nData columns (total 19 columns):\nDate                 440 non-null datetime64[ns]\nPlace                440 non-null object\nTime                 440 non-null object\nCategory             440 non-null object\nSex                  440 non-null object\nCountry              440 non-null object\nLane                 432 non-null float64\nPerson 1             440 non-null object\nPerson 2             440 non-null object\nsplit time 1         440 non-null object\nsplit time 2         440 non-null object\nsplit time 3         440 non-null object\nTotal Time           440 non-null object\nFinal Rank           438 non-null float64\nAir Temp             140 non-null float64\nWind Speed           231 non-null object\nWind Direction       236 non-null object\nCompetiton Type      437 non-null object\nCompetition Round    411 non-null object\ndtypes: datetime64[ns](1), float64(3), object(15)\nmemory usage: 68.8+ KB\n/Users/BramSikkens/anaconda3/lib/python3.7/site-packages/ipykernel_launcher.py:3: SettingWithCopyWarning: \nA value is trying to be set on a copy of a slice from a DataFrame.\nTry using .loc[row_indexer,col_indexer] = value instead\n\nSee the caveats in the documentation: http://pandas.pydata.org/pandas-docs/stable/indexing.html#indexing-view-versus-copy\n  This is separate from the ipykernel package so we can avoid doing imports until\n"
    },
    {
     "ename": "AttributeError",
     "evalue": "'SeriesGroupBy' object has no attribute 'avg'",
     "output_type": "error",
     "traceback": [
      "\u001b[0;31m---------------------------------------------------------------------------\u001b[0m",
      "\u001b[0;31mAttributeError\u001b[0m                            Traceback (most recent call last)",
      "\u001b[0;32m<ipython-input-22-82e7ca6c89ee>\u001b[0m in \u001b[0;36m<module>\u001b[0;34m\u001b[0m\n\u001b[1;32m     23\u001b[0m \u001b[0mdf\u001b[0m \u001b[0;34m=\u001b[0m \u001b[0mgetFastestTimeInRace\u001b[0m\u001b[0;34m(\u001b[0m\u001b[0mdf\u001b[0m\u001b[0;34m)\u001b[0m\u001b[0;34m\u001b[0m\u001b[0;34m\u001b[0m\u001b[0m\n\u001b[1;32m     24\u001b[0m \u001b[0;34m\u001b[0m\u001b[0m\n\u001b[0;32m---> 25\u001b[0;31m \u001b[0mdf\u001b[0m \u001b[0;34m=\u001b[0m\u001b[0mcreateAVGTIMETOP3\u001b[0m\u001b[0;34m(\u001b[0m\u001b[0mdf\u001b[0m\u001b[0;34m)\u001b[0m\u001b[0;34m\u001b[0m\u001b[0;34m\u001b[0m\u001b[0m\n\u001b[0m\u001b[1;32m     26\u001b[0m \u001b[0;31m#getAverageTimeofRace(df)\u001b[0m\u001b[0;34m\u001b[0m\u001b[0;34m\u001b[0m\u001b[0;34m\u001b[0m\u001b[0m\n\u001b[1;32m     27\u001b[0m \u001b[0;31m#df = dropColumns(df)\u001b[0m\u001b[0;34m\u001b[0m\u001b[0;34m\u001b[0m\u001b[0;34m\u001b[0m\u001b[0m\n",
      "\u001b[0;32m<ipython-input-19-c497398b0d29>\u001b[0m in \u001b[0;36mcreateAVGTIMETOP3\u001b[0;34m(df)\u001b[0m\n\u001b[1;32m      2\u001b[0m     \u001b[0mfilterTop3\u001b[0m\u001b[0;34m=\u001b[0m \u001b[0mdf\u001b[0m\u001b[0;34m[\u001b[0m\u001b[0;34m(\u001b[0m\u001b[0mdf\u001b[0m\u001b[0;34m[\u001b[0m\u001b[0;34m\"Final Rank\"\u001b[0m\u001b[0;34m]\u001b[0m \u001b[0;34m<\u001b[0m \u001b[0;36m4\u001b[0m\u001b[0;34m)\u001b[0m\u001b[0;34m]\u001b[0m\u001b[0;34m\u001b[0m\u001b[0;34m\u001b[0m\u001b[0m\n\u001b[1;32m      3\u001b[0m     \u001b[0mfilterTop3\u001b[0m\u001b[0;34m[\u001b[0m\u001b[0;34m\"Total Time\"\u001b[0m\u001b[0;34m]\u001b[0m \u001b[0;34m=\u001b[0m \u001b[0mpd\u001b[0m\u001b[0;34m.\u001b[0m\u001b[0mto_numeric\u001b[0m\u001b[0;34m(\u001b[0m\u001b[0mfilterTop3\u001b[0m\u001b[0;34m[\u001b[0m\u001b[0;34m\"Total Time\"\u001b[0m\u001b[0;34m]\u001b[0m\u001b[0;34m)\u001b[0m\u001b[0;34m\u001b[0m\u001b[0;34m\u001b[0m\u001b[0m\n\u001b[0;32m----> 4\u001b[0;31m     \u001b[0mgroupbyRace\u001b[0m \u001b[0;34m=\u001b[0m \u001b[0mfilterTop3\u001b[0m\u001b[0;34m.\u001b[0m\u001b[0mgroupby\u001b[0m\u001b[0;34m(\u001b[0m\u001b[0;34m\"Date\"\u001b[0m\u001b[0;34m)\u001b[0m\u001b[0;34m[\u001b[0m\u001b[0;34m\"Total Time\"\u001b[0m\u001b[0;34m]\u001b[0m\u001b[0;34m.\u001b[0m\u001b[0mavg\u001b[0m\u001b[0;34m(\u001b[0m\u001b[0;34m)\u001b[0m\u001b[0;34m.\u001b[0m\u001b[0mto_frame\u001b[0m\u001b[0;34m(\u001b[0m\u001b[0mname\u001b[0m\u001b[0;34m=\u001b[0m\u001b[0;34m\"Top3Avg\"\u001b[0m\u001b[0;34m)\u001b[0m\u001b[0;34m.\u001b[0m\u001b[0mreset_index\u001b[0m\u001b[0;34m(\u001b[0m\u001b[0;34m)\u001b[0m\u001b[0;34m\u001b[0m\u001b[0;34m\u001b[0m\u001b[0m\n\u001b[0m\u001b[1;32m      5\u001b[0m     \u001b[0mdf\u001b[0m \u001b[0;34m=\u001b[0m \u001b[0mpd\u001b[0m\u001b[0;34m.\u001b[0m\u001b[0mmerge\u001b[0m\u001b[0;34m(\u001b[0m\u001b[0mdf\u001b[0m\u001b[0;34m,\u001b[0m\u001b[0mgroupbyRace\u001b[0m\u001b[0;34m,\u001b[0m\u001b[0mhow\u001b[0m\u001b[0;34m=\u001b[0m\u001b[0;34m\"outer\"\u001b[0m\u001b[0;34m)\u001b[0m\u001b[0;34m\u001b[0m\u001b[0;34m\u001b[0m\u001b[0m\n\u001b[1;32m      6\u001b[0m \u001b[0;34m\u001b[0m\u001b[0m\n",
      "\u001b[0;32m~/anaconda3/lib/python3.7/site-packages/pandas/core/groupby/groupby.py\u001b[0m in \u001b[0;36m__getattr__\u001b[0;34m(self, attr)\u001b[0m\n\u001b[1;32m    534\u001b[0m \u001b[0;34m\u001b[0m\u001b[0m\n\u001b[1;32m    535\u001b[0m         raise AttributeError(\"%r object has no attribute %r\" %\n\u001b[0;32m--> 536\u001b[0;31m                              (type(self).__name__, attr))\n\u001b[0m\u001b[1;32m    537\u001b[0m \u001b[0;34m\u001b[0m\u001b[0m\n\u001b[1;32m    538\u001b[0m     @Substitution(klass='GroupBy',\n",
      "\u001b[0;31mAttributeError\u001b[0m: 'SeriesGroupBy' object has no attribute 'avg'"
     ]
    }
   ],
   "source": [
    "df = pd.read_csv(\"data.csv\",sep=\";\",error_bad_lines=False)\n",
    "\n",
    "\n",
    "# Datum opschonen\n",
    "df = cleanColumns(df)\n",
    "#df = createRaceIndex(df)\n",
    "# Datum opsplitens in verschillende columns\n",
    "df = splitDateInColumns(df)\n",
    "#Create Teams\n",
    "df = createTeams(df)\n",
    "# Convert alle tijden naar seconden\n",
    "convertTimes(df)\n",
    "#Make columns of categorial columns\n",
    "df = createCompetitionColumns(df)\n",
    "df = create_Reached_FinalA(df)\n",
    "df = create_Reached_Semi(df)\n",
    "df = create_DeltaTimes(df)\n",
    "\n",
    "\n",
    "\n",
    "df = create_count_FinalA_currentSeason(df)\n",
    "df = createPb_TimecurrentSeason(df)\n",
    "df = getFastestTimeInRace(df)\n",
    "\n",
    "df =createAVGTIMETOP3(df)\n",
    "#getAverageTimeofRace(df)\n",
    "#df = dropColumns(df)\n",
    "df.to_csv(\"K2_MEN_DATASET.csv\")\n",
    "\n"
   ]
  },
  {
   "cell_type": "code",
   "execution_count": null,
   "metadata": {},
   "outputs": [],
   "source": []
  },
  {
   "cell_type": "code",
   "execution_count": null,
   "metadata": {},
   "outputs": [],
   "source": []
  }
 ],
 "metadata": {
  "file_extension": ".py",
  "kernelspec": {
   "display_name": "Python 3",
   "language": "python",
   "name": "python3"
  },
  "language_info": {
   "codemirror_mode": {
    "name": "ipython",
    "version": 3
   },
   "file_extension": ".py",
   "mimetype": "text/x-python",
   "name": "python",
   "nbconvert_exporter": "python",
   "pygments_lexer": "ipython3",
   "version": "3.7.3-final"
  },
  "mimetype": "text/x-python",
  "name": "python",
  "npconvert_exporter": "python",
  "pygments_lexer": "ipython3",
  "version": 3
 },
 "nbformat": 4,
 "nbformat_minor": 4
}