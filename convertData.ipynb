{
 "cells": [
  {
   "cell_type": "code",
   "execution_count": 2,
   "metadata": {},
   "outputs": [],
   "source": [
    "import pandas as pd\n",
    "import numpy as np\n",
    "from datetime import datetime\n",
    "import time"
   ]
  },
  {
   "cell_type": "code",
   "execution_count": 5,
   "metadata": {},
   "outputs": [],
   "source": [
    "def splitDateInColumns(df):\n",
    "    for index, row in df.iterrows():\n",
    "        date_object = datetime.strptime(row[\"Date\"], '%d.%m.%Y')\n",
    "        df.at[index, 'Day'] = date_object.day\n",
    "        df.at[index, 'Month'] = date_object.month\n",
    "        df.at[index, 'Year'] = date_object.year\n",
    "\n",
    "    return df"
   ]
  },
  {
   "cell_type": "code",
   "execution_count": 6,
   "metadata": {},
   "outputs": [],
   "source": [
    "# Solution from : https://stackoverflow.com/questions/32854677/how-to-deal-with-multiple-date-string-formats-in-a-python-series\n",
    "def timeToSeconds(timestr):\n",
    "    for fmt in (\"%M:%S.%f\", \"%S.%f\", \"%S:%f\", \"%M:%S:%f\"):\n",
    "        try:\n",
    "            t = datetime.strptime(timestr, fmt)\n",
    "            seconds = (t.minute * 60) + t.second + (t.microsecond * 1e-6)\n",
    "            return round(seconds)\n",
    "            break\n",
    "        except ValueError:\n",
    "            pass"
   ]
  },
  {
   "cell_type": "code",
   "execution_count": 7,
   "metadata": {},
   "outputs": [],
   "source": [
    "def cleanColumns(df):\n",
    "    df = df.dropna(subset=['Date', 'Person 1', 'Person 2',\n",
    "                           'split time 1', 'split time 2', 'split time 3', 'Total Time'])\n",
    "    return df"
   ]
  },
  {
   "cell_type": "code",
   "execution_count": 8,
   "metadata": {},
   "outputs": [],
   "source": [
    "def convertTimes(df):\n",
    "    for index, row in df.iterrows():\n",
    "        df.at[index, \"split time 1\"] = timeToSeconds(row[\"split time 1\"])\n",
    "        df.at[index, \"split time 2\"] = timeToSeconds(row[\"split time 2\"])\n",
    "        df.at[index, \"split time 3\"] = timeToSeconds(row[\"split time 3\"])\n",
    "        df.at[index, \"Total Time\"] = timeToSeconds(row[\"Total Time\"])\n",
    "    return df\n"
   ]
  },
  {
   "cell_type": "code",
   "execution_count": 9,
   "metadata": {},
   "outputs": [],
   "source": [
    "def createCompetitionColumns(df):\n",
    "    df = pd.get_dummies(df,columns=['Competiton Type','Competition Round'], dtype=bool)\n",
    "    return df"
   ]
  },
  {
   "cell_type": "code",
   "execution_count": 10,
   "metadata": {},
   "outputs": [],
   "source": [
    "def create_DeltaTimes(df):\n",
    "     for index, row in df.iterrows():\n",
    "        df.at[index,\"D0_250\"] = row[\"split time 1\"]\n",
    "        df.at[index,\"D250_500\"] = pd.to_numeric(row[\"split time 2\"])-pd.to_numeric(row[\"split time 1\"])\n",
    "        df.at[index,\"D500_750\"] = pd.to_numeric(row[\"split time 3\"])-pd.to_numeric(row[\"split time 2\"])\n",
    "        df.at[index,\"D750_1000\"] = pd.to_numeric(row[\"Total Time\"])-pd.to_numeric(row[\"split time 3\"])\n",
    "\n",
    "\n"
   ]
  },
  {
   "cell_type": "code",
   "execution_count": 11,
   "metadata": {},
   "outputs": [],
   "source": [
    "def createRaceIndex(df):\n",
    "    for index, row in df.iterrows():\n",
    "        df.at[index,\"Race\"] = row[\"Year\"]  + \"_\" +row[\"Place\"]\n",
    "    return df"
   ]
  },
  {
   "cell_type": "code",
   "execution_count": 12,
   "metadata": {},
   "outputs": [
    {
     "ename": "SyntaxError",
     "evalue": "invalid syntax (<ipython-input-12-cc1662bc6811>, line 1)",
     "output_type": "error",
     "traceback": [
      "\u001b[1;36m  File \u001b[1;32m\"<ipython-input-12-cc1662bc6811>\"\u001b[1;36m, line \u001b[1;32m1\u001b[0m\n\u001b[1;33m    def create_tactic_columns:\u001b[0m\n\u001b[1;37m                             ^\u001b[0m\n\u001b[1;31mSyntaxError\u001b[0m\u001b[1;31m:\u001b[0m invalid syntax\n"
     ]
    }
   ],
   "source": [
    "def create_tactic_columns:\n",
    "    #Fast/Neutral/Slow Start?\n",
    "    #Fast/Neutral/Slow  Middle?\n",
    "    #Fast/Neutral/Slow End? "
   ]
  },
  {
   "cell_type": "code",
   "execution_count": 193,
   "metadata": {},
   "outputs": [],
   "source": [
    "def createPb_TimecurrentSeason(df):\n",
    "    for index, row in df.iterrows():\n",
    "        seasonTimes = df.loc[(df[\"Year\"] == row[\"Year\"]) & (df['Date'] <= row[\"Date\"]) & (df[\"Person 1\"] == row[\"Person 1\"]) & (df[\"Person 2\"] == row[\"Person 2\"])]\n",
    "        print(best_seasonTime)\n",
    "        #df.at[index,\"Season_Best_Time\"] = seasonTimes[\"Total Time\"][0]\n",
    "        \n",
    "    return df"
   ]
  },
  {
   "cell_type": "code",
   "execution_count": null,
   "metadata": {},
   "outputs": [],
   "source": [
    "def create_Pb_Rank_currentSeason():"
   ]
  },
  {
   "cell_type": "code",
   "execution_count": 143,
   "metadata": {},
   "outputs": [],
   "source": [
    "def create_Reached_FinalA(df):\n",
    "    #Loop over elke row\n",
    "    for index, row in df.iterrows():\n",
    "        #check of ploeg in row i in de a finale komt\n",
    "        dataCount = df.loc[(df[\"Competition Round_FINAL A\"] == True) & (df[\"Year\"] == row[\"Year\"]) & (df[\"Place\"] == row[\"Place\"]) & (df[\"Person 1\"] == row[\"Person 1\"]) & (df[\"Person 2\"] == row[\"Person 2\"])].shape[0]\n",
    "        #als ploeg in de a finale geraakt\n",
    "        if(dataCount >= 1):\n",
    "            df.at[index,\"Reached_FINAL_A\"] = True\n",
    "        else: \n",
    "            df.at[index,\"Reached_FINAL_A\"] = False        \n",
    "    return df\n",
    "            "
   ]
  },
  {
   "cell_type": "code",
   "execution_count": null,
   "metadata": {},
   "outputs": [],
   "source": [
    "def create_AVG_Rank_currentSeason():\n",
    "    "
   ]
  },
  {
   "cell_type": "code",
   "execution_count": 154,
   "metadata": {},
   "outputs": [],
   "source": [
    "def create_Reached_Semi(df):\n",
    "    #Loop over elke row\n",
    "    for index, row in df.iterrows():\n",
    "        #check of ploeg in row i in de a finale komt\n",
    "        dataCount = df.loc[(df[\"Competition Round_SEMIFINAL\"] == True) & (df[\"Year\"] == row[\"Year\"]) & (df[\"Place\"] == row[\"Place\"]) & (df[\"Person 1\"] == row[\"Person 1\"]) & (df[\"Person 2\"] == row[\"Person 2\"])].shape[0]\n",
    "        #als ploeg in de a finale geraakt\n",
    "        if(dataCount >= 1):\n",
    "            df.at[index,\"Reached_SEMI\"] = True\n",
    "        else: \n",
    "            df.at[index,\"Reached_SEMI\"] = False        \n",
    "    return df"
   ]
  },
  {
   "cell_type": "code",
   "execution_count": null,
   "metadata": {},
   "outputs": [],
   "source": [
    "def create_FinalRank(df):\n"
   ]
  },
  {
   "cell_type": "code",
   "execution_count": 182,
   "metadata": {},
   "outputs": [],
   "source": [
    "def create_count_FinalA_currentSeason(df):\n",
    "    #Loop over elke row\n",
    "    for index, row in df.iterrows():\n",
    "        FinalACount = df.loc[(df[\"Year\"] == row[\"Year\"]) & (df['Date'] < row[\"Date\"])& (df[\"Person 1\"] == row[\"Person 1\"]) & (df[\"Person 2\"] == row[\"Person 2\"]) & (row[\"Reached_FINAL_A\"] == True)].shape[0]\n",
    "        df.at[index,\"FinalACountCurrentSeason\"] = FinalACount\n",
    "    return df"
   ]
  },
  {
   "cell_type": "code",
   "execution_count": null,
   "metadata": {},
   "outputs": [],
   "source": [
    "def create_FinalARatio_currentSeason():\n",
    "    "
   ]
  },
  {
   "cell_type": "code",
   "execution_count": 194,
   "metadata": {},
   "outputs": [
    {
     "data": {
      "text/html": [
       "<div>\n",
       "<style scoped>\n",
       "    .dataframe tbody tr th:only-of-type {\n",
       "        vertical-align: middle;\n",
       "    }\n",
       "\n",
       "    .dataframe tbody tr th {\n",
       "        vertical-align: top;\n",
       "    }\n",
       "\n",
       "    .dataframe thead th {\n",
       "        text-align: right;\n",
       "    }\n",
       "</style>\n",
       "<table border=\"1\" class=\"dataframe\">\n",
       "  <thead>\n",
       "    <tr style=\"text-align: right;\">\n",
       "      <th></th>\n",
       "      <th>Date</th>\n",
       "      <th>Place</th>\n",
       "      <th>Time</th>\n",
       "      <th>Category</th>\n",
       "      <th>Sex</th>\n",
       "      <th>Country</th>\n",
       "      <th>Lane</th>\n",
       "      <th>Person 1</th>\n",
       "      <th>Person 2</th>\n",
       "      <th>split time 1</th>\n",
       "      <th>split time 2</th>\n",
       "      <th>split time 3</th>\n",
       "      <th>Total Time</th>\n",
       "      <th>Final Rank</th>\n",
       "      <th>Air Temp</th>\n",
       "      <th>Wind Speed</th>\n",
       "      <th>Wind Direction</th>\n",
       "      <th>Competiton Type</th>\n",
       "      <th>Competition Round</th>\n",
       "    </tr>\n",
       "  </thead>\n",
       "  <tbody>\n",
       "    <tr>\n",
       "      <th>588</th>\n",
       "      <td>23.05.2015</td>\n",
       "      <td>COPENHAGEN</td>\n",
       "      <td>10:44</td>\n",
       "      <td>SEN</td>\n",
       "      <td>M</td>\n",
       "      <td>CAN</td>\n",
       "      <td>1.0</td>\n",
       "      <td>Brian MALFESI</td>\n",
       "      <td>Andrew JESSOP</td>\n",
       "      <td>NaN</td>\n",
       "      <td>NaN</td>\n",
       "      <td>NaN</td>\n",
       "      <td>3:42.416</td>\n",
       "      <td>5.0</td>\n",
       "      <td>NaN</td>\n",
       "      <td>NaN</td>\n",
       "      <td>NaN</td>\n",
       "      <td>WORLDCUP</td>\n",
       "      <td>FINAL A</td>\n",
       "    </tr>\n",
       "    <tr>\n",
       "      <th>589</th>\n",
       "      <td>23.05.2015</td>\n",
       "      <td>COPENHAGEN</td>\n",
       "      <td>10:44</td>\n",
       "      <td>SEN</td>\n",
       "      <td>M</td>\n",
       "      <td>GBR</td>\n",
       "      <td>6.0</td>\n",
       "      <td>Mathew BOWLEY</td>\n",
       "      <td>William RUTHERFORD</td>\n",
       "      <td>NaN</td>\n",
       "      <td>NaN</td>\n",
       "      <td>NaN</td>\n",
       "      <td>3:44.684</td>\n",
       "      <td>6.0</td>\n",
       "      <td>NaN</td>\n",
       "      <td>NaN</td>\n",
       "      <td>NaN</td>\n",
       "      <td>WORLDCUP</td>\n",
       "      <td>FINAL A</td>\n",
       "    </tr>\n",
       "    <tr>\n",
       "      <th>590</th>\n",
       "      <td>23.05.2015</td>\n",
       "      <td>COPENHAGEN</td>\n",
       "      <td>10:44</td>\n",
       "      <td>SEN</td>\n",
       "      <td>M</td>\n",
       "      <td>IRI</td>\n",
       "      <td>2.0</td>\n",
       "      <td>Ali AGHAMIRZAEIJENAGHRAD</td>\n",
       "      <td>Saeid FAZLOULA</td>\n",
       "      <td>NaN</td>\n",
       "      <td>NaN</td>\n",
       "      <td>NaN</td>\n",
       "      <td>3:45.684</td>\n",
       "      <td>7.0</td>\n",
       "      <td>NaN</td>\n",
       "      <td>NaN</td>\n",
       "      <td>NaN</td>\n",
       "      <td>WORLDCUP</td>\n",
       "      <td>FINAL A</td>\n",
       "    </tr>\n",
       "    <tr>\n",
       "      <th>591</th>\n",
       "      <td>23.05.2015</td>\n",
       "      <td>COPENHAGEN</td>\n",
       "      <td>10:44</td>\n",
       "      <td>SEN</td>\n",
       "      <td>M</td>\n",
       "      <td>BEL</td>\n",
       "      <td>8.0</td>\n",
       "      <td>Toon BROEKX</td>\n",
       "      <td>Piet BROEKX</td>\n",
       "      <td>NaN</td>\n",
       "      <td>NaN</td>\n",
       "      <td>NaN</td>\n",
       "      <td>3:45.692</td>\n",
       "      <td>8.0</td>\n",
       "      <td>NaN</td>\n",
       "      <td>NaN</td>\n",
       "      <td>NaN</td>\n",
       "      <td>WORLDCUP</td>\n",
       "      <td>FINAL A</td>\n",
       "    </tr>\n",
       "    <tr>\n",
       "      <th>592</th>\n",
       "      <td>23.05.2015</td>\n",
       "      <td>COPENHAGEN</td>\n",
       "      <td>10:44</td>\n",
       "      <td>SEN</td>\n",
       "      <td>M</td>\n",
       "      <td>FIN</td>\n",
       "      <td>9.0</td>\n",
       "      <td>Jeremy HAKALA</td>\n",
       "      <td>Miika DIETRICH</td>\n",
       "      <td>NaN</td>\n",
       "      <td>NaN</td>\n",
       "      <td>NaN</td>\n",
       "      <td>3:46.412</td>\n",
       "      <td>9.0</td>\n",
       "      <td>NaN</td>\n",
       "      <td>NaN</td>\n",
       "      <td>NaN</td>\n",
       "      <td>WORLDCUP</td>\n",
       "      <td>FINAL A</td>\n",
       "    </tr>\n",
       "  </tbody>\n",
       "</table>\n",
       "</div>"
      ],
      "text/plain": [
       "           Date       Place   Time Category Sex Country  Lane  \\\n",
       "588  23.05.2015  COPENHAGEN  10:44      SEN   M     CAN   1.0   \n",
       "589  23.05.2015  COPENHAGEN  10:44      SEN   M     GBR   6.0   \n",
       "590  23.05.2015  COPENHAGEN  10:44      SEN   M     IRI   2.0   \n",
       "591  23.05.2015  COPENHAGEN  10:44      SEN   M     BEL   8.0   \n",
       "592  23.05.2015  COPENHAGEN  10:44      SEN   M     FIN   9.0   \n",
       "\n",
       "                     Person 1            Person 2 split time 1 split time 2  \\\n",
       "588             Brian MALFESI       Andrew JESSOP          NaN          NaN   \n",
       "589             Mathew BOWLEY  William RUTHERFORD          NaN          NaN   \n",
       "590  Ali AGHAMIRZAEIJENAGHRAD      Saeid FAZLOULA          NaN          NaN   \n",
       "591               Toon BROEKX         Piet BROEKX          NaN          NaN   \n",
       "592             Jeremy HAKALA      Miika DIETRICH          NaN          NaN   \n",
       "\n",
       "    split time 3 Total Time  Final Rank  Air Temp Wind Speed Wind Direction  \\\n",
       "588          NaN   3:42.416         5.0       NaN        NaN            NaN   \n",
       "589          NaN   3:44.684         6.0       NaN        NaN            NaN   \n",
       "590          NaN   3:45.684         7.0       NaN        NaN            NaN   \n",
       "591          NaN   3:45.692         8.0       NaN        NaN            NaN   \n",
       "592          NaN   3:46.412         9.0       NaN        NaN            NaN   \n",
       "\n",
       "    Competiton Type Competition Round  \n",
       "588        WORLDCUP           FINAL A  \n",
       "589        WORLDCUP           FINAL A  \n",
       "590        WORLDCUP           FINAL A  \n",
       "591        WORLDCUP           FINAL A  \n",
       "592        WORLDCUP           FINAL A  "
      ]
     },
     "execution_count": 194,
     "metadata": {},
     "output_type": "execute_result"
    }
   ],
   "source": [
    "df = pd.read_csv(\"data.csv\",sep=\";\",error_bad_lines=False)\n",
    "df.tail()"
   ]
  },
  {
   "cell_type": "code",
   "execution_count": 195,
   "metadata": {},
   "outputs": [
    {
     "ename": "ValueError",
     "evalue": "attempt to get argmin of an empty sequence",
     "output_type": "error",
     "traceback": [
      "\u001b[1;31m---------------------------------------------------------------------------\u001b[0m",
      "\u001b[1;31mValueError\u001b[0m                                Traceback (most recent call last)",
      "\u001b[1;32m<ipython-input-195-9651b6ba75f5>\u001b[0m in \u001b[0;36m<module>\u001b[1;34m\u001b[0m\n\u001b[0;32m     14\u001b[0m \u001b[0mdf\u001b[0m \u001b[1;33m=\u001b[0m \u001b[0mcreate_count_FinalA_currentSeason\u001b[0m\u001b[1;33m(\u001b[0m\u001b[0mdf\u001b[0m\u001b[1;33m)\u001b[0m\u001b[1;33m\u001b[0m\u001b[1;33m\u001b[0m\u001b[0m\n\u001b[0;32m     15\u001b[0m \u001b[1;33m\u001b[0m\u001b[0m\n\u001b[1;32m---> 16\u001b[1;33m \u001b[0mdf\u001b[0m \u001b[1;33m=\u001b[0m \u001b[0mcreatePb_TimecurrentSeason\u001b[0m\u001b[1;33m(\u001b[0m\u001b[0mdf\u001b[0m\u001b[1;33m)\u001b[0m\u001b[1;33m\u001b[0m\u001b[1;33m\u001b[0m\u001b[0m\n\u001b[0m\u001b[0;32m     17\u001b[0m \u001b[1;33m\u001b[0m\u001b[0m\n\u001b[0;32m     18\u001b[0m \u001b[0mdf\u001b[0m\u001b[1;33m.\u001b[0m\u001b[0mto_csv\u001b[0m\u001b[1;33m(\u001b[0m\u001b[1;34m\"K2_MEN_DATASET.csv\"\u001b[0m\u001b[1;33m)\u001b[0m\u001b[1;33m\u001b[0m\u001b[1;33m\u001b[0m\u001b[0m\n",
      "\u001b[1;32m<ipython-input-193-94d06c7ac2e5>\u001b[0m in \u001b[0;36mcreatePb_TimecurrentSeason\u001b[1;34m(df)\u001b[0m\n\u001b[0;32m      2\u001b[0m     \u001b[1;32mfor\u001b[0m \u001b[0mindex\u001b[0m\u001b[1;33m,\u001b[0m \u001b[0mrow\u001b[0m \u001b[1;32min\u001b[0m \u001b[0mdf\u001b[0m\u001b[1;33m.\u001b[0m\u001b[0miterrows\u001b[0m\u001b[1;33m(\u001b[0m\u001b[1;33m)\u001b[0m\u001b[1;33m:\u001b[0m\u001b[1;33m\u001b[0m\u001b[1;33m\u001b[0m\u001b[0m\n\u001b[0;32m      3\u001b[0m         \u001b[0mseasonTimes\u001b[0m \u001b[1;33m=\u001b[0m \u001b[0mdf\u001b[0m\u001b[1;33m.\u001b[0m\u001b[0mloc\u001b[0m\u001b[1;33m[\u001b[0m\u001b[1;33m(\u001b[0m\u001b[0mdf\u001b[0m\u001b[1;33m[\u001b[0m\u001b[1;34m\"Year\"\u001b[0m\u001b[1;33m]\u001b[0m \u001b[1;33m==\u001b[0m \u001b[0mrow\u001b[0m\u001b[1;33m[\u001b[0m\u001b[1;34m\"Year\"\u001b[0m\u001b[1;33m]\u001b[0m\u001b[1;33m)\u001b[0m \u001b[1;33m&\u001b[0m \u001b[1;33m(\u001b[0m\u001b[0mdf\u001b[0m\u001b[1;33m[\u001b[0m\u001b[1;34m'Date'\u001b[0m\u001b[1;33m]\u001b[0m \u001b[1;33m<\u001b[0m \u001b[0mrow\u001b[0m\u001b[1;33m[\u001b[0m\u001b[1;34m\"Date\"\u001b[0m\u001b[1;33m]\u001b[0m\u001b[1;33m)\u001b[0m \u001b[1;33m&\u001b[0m \u001b[1;33m(\u001b[0m\u001b[0mdf\u001b[0m\u001b[1;33m[\u001b[0m\u001b[1;34m\"Person 1\"\u001b[0m\u001b[1;33m]\u001b[0m \u001b[1;33m==\u001b[0m \u001b[0mrow\u001b[0m\u001b[1;33m[\u001b[0m\u001b[1;34m\"Person 1\"\u001b[0m\u001b[1;33m]\u001b[0m\u001b[1;33m)\u001b[0m \u001b[1;33m&\u001b[0m \u001b[1;33m(\u001b[0m\u001b[0mdf\u001b[0m\u001b[1;33m[\u001b[0m\u001b[1;34m\"Person 2\"\u001b[0m\u001b[1;33m]\u001b[0m \u001b[1;33m==\u001b[0m \u001b[0mrow\u001b[0m\u001b[1;33m[\u001b[0m\u001b[1;34m\"Person 2\"\u001b[0m\u001b[1;33m]\u001b[0m\u001b[1;33m)\u001b[0m\u001b[1;33m]\u001b[0m\u001b[1;33m\u001b[0m\u001b[1;33m\u001b[0m\u001b[0m\n\u001b[1;32m----> 4\u001b[1;33m         \u001b[0mbest_seasonTime\u001b[0m \u001b[1;33m=\u001b[0m \u001b[0mseasonTimes\u001b[0m\u001b[1;33m[\u001b[0m\u001b[1;34m'Total Time'\u001b[0m\u001b[1;33m]\u001b[0m\u001b[1;33m.\u001b[0m\u001b[0mvalues\u001b[0m\u001b[1;33m.\u001b[0m\u001b[0margmin\u001b[0m\u001b[1;33m(\u001b[0m\u001b[1;33m)\u001b[0m\u001b[1;33m\u001b[0m\u001b[1;33m\u001b[0m\u001b[0m\n\u001b[0m\u001b[0;32m      5\u001b[0m         \u001b[0mprint\u001b[0m\u001b[1;33m(\u001b[0m\u001b[0mbest_seasonTime\u001b[0m\u001b[1;33m)\u001b[0m\u001b[1;33m\u001b[0m\u001b[1;33m\u001b[0m\u001b[0m\n\u001b[0;32m      6\u001b[0m         \u001b[1;31m#df.at[index,\"Season_Best_Time\"] = seasonTimes[\"Total Time\"][0]\u001b[0m\u001b[1;33m\u001b[0m\u001b[1;33m\u001b[0m\u001b[1;33m\u001b[0m\u001b[0m\n",
      "\u001b[1;31mValueError\u001b[0m: attempt to get argmin of an empty sequence"
     ]
    }
   ],
   "source": [
    "# Datum opschonen\n",
    "df = cleanColumns(df)\n",
    "# Datum opsplitens in verschillende columns\n",
    "df = splitDateInColumns(df)\n",
    "# Convert alle tijden naar seconden\n",
    "convertTimes(df)\n",
    "#Make columns of categorial columns\n",
    "df = createCompetitionColumns(df)\n",
    "\n",
    "df = create_Reached_FinalA(df)\n",
    "df = create_Reached_Semi(df)\n",
    "\n",
    "\n",
    "df = create_count_FinalA_currentSeason(df)\n",
    "\n",
    "df = createPb_TimecurrentSeason(df)\n",
    "\n",
    "df.to_csv(\"K2_MEN_DATASET.csv\")\n",
    "df.head()"
   ]
  },
  {
   "cell_type": "code",
   "execution_count": null,
   "metadata": {},
   "outputs": [],
   "source": []
  }
 ],
 "metadata": {
  "file_extension": ".py",
  "kernelspec": {
   "display_name": "Python 3",
   "language": "python",
   "name": "python3"
  },
  "language_info": {
   "codemirror_mode": {
    "name": "ipython",
    "version": 3
   },
   "file_extension": ".py",
   "mimetype": "text/x-python",
   "name": "python",
   "nbconvert_exporter": "python",
   "pygments_lexer": "ipython3",
   "version": "3.7.5"
  },
  "mimetype": "text/x-python",
  "name": "python",
  "npconvert_exporter": "python",
  "pygments_lexer": "ipython3",
  "version": 3
 },
 "nbformat": 4,
 "nbformat_minor": 4
}
