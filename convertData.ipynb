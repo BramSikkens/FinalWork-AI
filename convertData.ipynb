{
 "cells": [
  {
   "cell_type": "code",
   "execution_count": 1,
   "metadata": {},
   "outputs": [],
   "source": [
    "import pandas as pd\n",
    "import numpy as np\n",
    "from datetime import datetime\n",
    "import time"
   ]
  },
  {
   "cell_type": "code",
   "execution_count": 17,
   "metadata": {},
   "outputs": [
    {
     "data": {
      "text/html": [
       "<div>\n",
       "<style scoped>\n",
       "    .dataframe tbody tr th:only-of-type {\n",
       "        vertical-align: middle;\n",
       "    }\n",
       "\n",
       "    .dataframe tbody tr th {\n",
       "        vertical-align: top;\n",
       "    }\n",
       "\n",
       "    .dataframe thead th {\n",
       "        text-align: right;\n",
       "    }\n",
       "</style>\n",
       "<table border=\"1\" class=\"dataframe\">\n",
       "  <thead>\n",
       "    <tr style=\"text-align: right;\">\n",
       "      <th></th>\n",
       "      <th>Date</th>\n",
       "      <th>Place</th>\n",
       "      <th>Time</th>\n",
       "      <th>Category</th>\n",
       "      <th>Sex</th>\n",
       "      <th>Country</th>\n",
       "      <th>Lane</th>\n",
       "      <th>Person 1</th>\n",
       "      <th>Person 2</th>\n",
       "      <th>split time 1</th>\n",
       "      <th>split time 2</th>\n",
       "      <th>split time 3</th>\n",
       "      <th>Total Time</th>\n",
       "      <th>Final Rank</th>\n",
       "      <th>Air Temp</th>\n",
       "      <th>Wind Speed</th>\n",
       "      <th>Wind Direction</th>\n",
       "      <th>Competiton Type</th>\n",
       "      <th>Competition Round</th>\n",
       "      <th>Unnamed: 19</th>\n",
       "    </tr>\n",
       "  </thead>\n",
       "  <tbody>\n",
       "    <tr>\n",
       "      <th>0</th>\n",
       "      <td>31.05.2013</td>\n",
       "      <td>Poznan</td>\n",
       "      <td>10:22</td>\n",
       "      <td>SEN</td>\n",
       "      <td>M</td>\n",
       "      <td>POL</td>\n",
       "      <td>3.0</td>\n",
       "      <td>SZANDRACH PAWEŁ</td>\n",
       "      <td>KUJAWSKI MARIUSZ</td>\n",
       "      <td>00:52.82</td>\n",
       "      <td>01:48:27</td>\n",
       "      <td>02:45:10</td>\n",
       "      <td>3:41.970</td>\n",
       "      <td>1.0</td>\n",
       "      <td>15.0</td>\n",
       "      <td>1 m/s</td>\n",
       "      <td>W</td>\n",
       "      <td>WORLD CUP</td>\n",
       "      <td>HEAT</td>\n",
       "      <td>NaN</td>\n",
       "    </tr>\n",
       "    <tr>\n",
       "      <th>1</th>\n",
       "      <td>31.05.2013</td>\n",
       "      <td>Poznan</td>\n",
       "      <td>10:22</td>\n",
       "      <td>SEN</td>\n",
       "      <td>M</td>\n",
       "      <td>BEL</td>\n",
       "      <td>5.0</td>\n",
       "      <td>CAUWENBERGH OLIVIER</td>\n",
       "      <td>PANNECOUCKE LAURENS</td>\n",
       "      <td>00:52.51</td>\n",
       "      <td>0,075717593</td>\n",
       "      <td>02:47:45</td>\n",
       "      <td>3:43.442</td>\n",
       "      <td>2.0</td>\n",
       "      <td>15.0</td>\n",
       "      <td>1 m/s</td>\n",
       "      <td>W</td>\n",
       "      <td>WORLD CUP</td>\n",
       "      <td>HEAT</td>\n",
       "      <td>NaN</td>\n",
       "    </tr>\n",
       "    <tr>\n",
       "      <th>2</th>\n",
       "      <td>31.05.2013</td>\n",
       "      <td>Poznan</td>\n",
       "      <td>10:22</td>\n",
       "      <td>SEN</td>\n",
       "      <td>M</td>\n",
       "      <td>GER</td>\n",
       "      <td>7.0</td>\n",
       "      <td>HARBRECHT GORDAN</td>\n",
       "      <td>FROESE TORBEN</td>\n",
       "      <td>00:51.95</td>\n",
       "      <td>01:47:39</td>\n",
       "      <td>02:45:50</td>\n",
       "      <td>3:45.930</td>\n",
       "      <td>3.0</td>\n",
       "      <td>15.0</td>\n",
       "      <td>1 m/s</td>\n",
       "      <td>W</td>\n",
       "      <td>WORLD CUP</td>\n",
       "      <td>HEAT</td>\n",
       "      <td>NaN</td>\n",
       "    </tr>\n",
       "    <tr>\n",
       "      <th>3</th>\n",
       "      <td>31.05.2013</td>\n",
       "      <td>Poznan</td>\n",
       "      <td>10:22</td>\n",
       "      <td>SEN</td>\n",
       "      <td>M</td>\n",
       "      <td>FRA</td>\n",
       "      <td>6.0</td>\n",
       "      <td>BURGER GUILLAUME</td>\n",
       "      <td>URBAN QUENTIN</td>\n",
       "      <td>00:52.26</td>\n",
       "      <td>01:50:01</td>\n",
       "      <td>0,11806713</td>\n",
       "      <td>3:49.890</td>\n",
       "      <td>4.0</td>\n",
       "      <td>15.0</td>\n",
       "      <td>1 m/s</td>\n",
       "      <td>W</td>\n",
       "      <td>WORLD CUP</td>\n",
       "      <td>HEAT</td>\n",
       "      <td>NaN</td>\n",
       "    </tr>\n",
       "    <tr>\n",
       "      <th>4</th>\n",
       "      <td>31.05.2013</td>\n",
       "      <td>Poznan</td>\n",
       "      <td>10:22</td>\n",
       "      <td>SEN</td>\n",
       "      <td>M</td>\n",
       "      <td>ARG</td>\n",
       "      <td>4.0</td>\n",
       "      <td>DE GESUS JUAN PABLO</td>\n",
       "      <td>CARRERAS GONZALO</td>\n",
       "      <td>NaN</td>\n",
       "      <td>01:51:57</td>\n",
       "      <td>02:49:25</td>\n",
       "      <td>3:51.210</td>\n",
       "      <td>5.0</td>\n",
       "      <td>15.0</td>\n",
       "      <td>1 m/s</td>\n",
       "      <td>W</td>\n",
       "      <td>WORLD CUP</td>\n",
       "      <td>HEAT</td>\n",
       "      <td>NaN</td>\n",
       "    </tr>\n",
       "  </tbody>\n",
       "</table>\n",
       "</div>"
      ],
      "text/plain": [
       "         Date   Place   Time Category Sex Country  Lane             Person 1  \\\n",
       "0  31.05.2013  Poznan  10:22      SEN   M     POL   3.0      SZANDRACH PAWEŁ   \n",
       "1  31.05.2013  Poznan  10:22      SEN   M     BEL   5.0  CAUWENBERGH OLIVIER   \n",
       "2  31.05.2013  Poznan  10:22      SEN   M     GER   7.0     HARBRECHT GORDAN   \n",
       "3  31.05.2013  Poznan  10:22      SEN   M     FRA   6.0     BURGER GUILLAUME   \n",
       "4  31.05.2013  Poznan  10:22      SEN   M     ARG   4.0  DE GESUS JUAN PABLO   \n",
       "\n",
       "              Person 2 split time 1 split time 2 split time 3 Total Time  \\\n",
       "0     KUJAWSKI MARIUSZ     00:52.82     01:48:27     02:45:10   3:41.970   \n",
       "1  PANNECOUCKE LAURENS     00:52.51  0,075717593     02:47:45   3:43.442   \n",
       "2        FROESE TORBEN     00:51.95     01:47:39     02:45:50   3:45.930   \n",
       "3        URBAN QUENTIN     00:52.26     01:50:01   0,11806713   3:49.890   \n",
       "4     CARRERAS GONZALO          NaN     01:51:57     02:49:25   3:51.210   \n",
       "\n",
       "   Final Rank  Air Temp Wind Speed Wind Direction Competiton Type  \\\n",
       "0         1.0      15.0      1 m/s              W       WORLD CUP   \n",
       "1         2.0      15.0      1 m/s              W       WORLD CUP   \n",
       "2         3.0      15.0      1 m/s              W       WORLD CUP   \n",
       "3         4.0      15.0      1 m/s              W       WORLD CUP   \n",
       "4         5.0      15.0      1 m/s              W       WORLD CUP   \n",
       "\n",
       "  Competition Round Unnamed: 19  \n",
       "0              HEAT         NaN  \n",
       "1              HEAT         NaN  \n",
       "2              HEAT         NaN  \n",
       "3              HEAT         NaN  \n",
       "4              HEAT         NaN  "
      ]
     },
     "execution_count": 17,
     "metadata": {},
     "output_type": "execute_result"
    }
   ],
   "source": [
    "df = pd.read_csv(\"data.csv\",sep=\";\",error_bad_lines=False)\n",
    "df.head()"
   ]
  },
  {
   "cell_type": "code",
   "execution_count": 18,
   "metadata": {},
   "outputs": [],
   "source": [
    "def splitDateInColumns(df):\n",
    "    for index, row in df.iterrows():\n",
    "        date_object = datetime.strptime(row[\"Date\"], '%d.%m.%Y')\n",
    "        df.at[index, 'Day'] = date_object.day\n",
    "        df.at[index, 'Month'] = date_object.month\n",
    "        df.at[index, 'Year'] = date_object.year\n",
    "    return df"
   ]
  },
  {
   "cell_type": "code",
   "execution_count": 19,
   "metadata": {},
   "outputs": [],
   "source": [
    "def cleanColumns(df):\n",
    "    df = df.dropna(subset=['Date', 'Person 1', 'Person 2',\n",
    "                           'split time 1', 'split time 2', 'split time 3', 'Total Time'])\n",
    "    return df"
   ]
  },
  {
   "cell_type": "code",
   "execution_count": 20,
   "metadata": {},
   "outputs": [],
   "source": [
    "\n",
    "# Solution from : https://stackoverflow.com/questions/32854677/how-to-deal-with-multiple-date-string-formats-in-a-python-series\n",
    "def timeToSeconds(timestr):\n",
    "    for fmt in (\"%M:%S.%f\", \"%S.%f\", \"%S:%f\", \"%M:%S:%f\"):\n",
    "        try:\n",
    "            t = datetime.strptime(timestr, fmt)\n",
    "            seconds = (t.minute * 60) + t.second + (t.microsecond * 1e-6)\n",
    "            return round(seconds)\n",
    "            break\n",
    "        except ValueError:\n",
    "            pass"
   ]
  },
  {
   "cell_type": "code",
   "execution_count": 21,
   "metadata": {},
   "outputs": [],
   "source": [
    "def convertTimes(df):\n",
    "    for index, row in df.iterrows():\n",
    "        df.at[index, \"split time 1\"] = timeToSeconds(row[\"split time 1\"])\n",
    "        df.at[index, \"split time 2\"] = timeToSeconds(row[\"split time 2\"])\n",
    "        df.at[index, \"split time 3\"] = timeToSeconds(row[\"split time 3\"])\n",
    "        df.at[index, \"Total Time\"] = timeToSeconds(row[\"Total Time\"])\n",
    "    return df\n"
   ]
  },
  {
   "cell_type": "code",
   "execution_count": 22,
   "metadata": {},
   "outputs": [],
   "source": [
    "def createCompetitionColumns(df):\n",
    "    df = pd.get_dummies(df,columns=['Competiton Type','Competition Round'], dtype=bool)\n",
    "    return df"
   ]
  },
  {
   "cell_type": "code",
   "execution_count": 23,
   "metadata": {},
   "outputs": [],
   "source": [
    "def create_DeltaTimes(df):\n",
    "     for index, row in df.iterrows():\n",
    "        df.at[index,\"D0_250\"] = row[\"split time 1\"]\n",
    "        df.at[index,\"D250_500\"] = pd.to_numeric(row[\"split time 2\"])-pd.to_numeric(row[\"split time 1\"])\n",
    "        df.at[index,\"D500_750\"] = pd.to_numeric(row[\"split time 3\"])-pd.to_numeric(row[\"split time 2\"])\n",
    "        df.at[index,\"D750_1000\"] = pd.to_numeric(row[\"Total Time\"])-pd.to_numeric(row[\"split time 3\"])\n",
    "\n",
    "\n"
   ]
  },
  {
   "cell_type": "code",
   "execution_count": 26,
   "metadata": {},
   "outputs": [
    {
     "ename": "TypeError",
     "evalue": "strptime() argument 1 must be str, not int",
     "output_type": "error",
     "traceback": [
      "\u001b[1;31m---------------------------------------------------------------------------\u001b[0m",
      "\u001b[1;31mTypeError\u001b[0m                                 Traceback (most recent call last)",
      "\u001b[1;32m<ipython-input-26-f15638ff071d>\u001b[0m in \u001b[0;36m<module>\u001b[1;34m\u001b[0m\n\u001b[0;32m      4\u001b[0m \u001b[0mdf\u001b[0m \u001b[1;33m=\u001b[0m \u001b[0msplitDateInColumns\u001b[0m\u001b[1;33m(\u001b[0m\u001b[0mdf\u001b[0m\u001b[1;33m)\u001b[0m\u001b[1;33m\u001b[0m\u001b[1;33m\u001b[0m\u001b[0m\n\u001b[0;32m      5\u001b[0m \u001b[1;31m# Convert alle tijden naar seconden\u001b[0m\u001b[1;33m\u001b[0m\u001b[1;33m\u001b[0m\u001b[1;33m\u001b[0m\u001b[0m\n\u001b[1;32m----> 6\u001b[1;33m \u001b[0mconvertTimes\u001b[0m\u001b[1;33m(\u001b[0m\u001b[0mdf\u001b[0m\u001b[1;33m)\u001b[0m\u001b[1;33m\u001b[0m\u001b[1;33m\u001b[0m\u001b[0m\n\u001b[0m\u001b[0;32m      7\u001b[0m \u001b[1;31m#Make columns of categorial columns\u001b[0m\u001b[1;33m\u001b[0m\u001b[1;33m\u001b[0m\u001b[1;33m\u001b[0m\u001b[0m\n\u001b[0;32m      8\u001b[0m \u001b[0mdf\u001b[0m \u001b[1;33m=\u001b[0m \u001b[0mcreateCompetitionColumns\u001b[0m\u001b[1;33m(\u001b[0m\u001b[0mdf\u001b[0m\u001b[1;33m)\u001b[0m\u001b[1;33m\u001b[0m\u001b[1;33m\u001b[0m\u001b[0m\n",
      "\u001b[1;32m<ipython-input-21-539d139aad08>\u001b[0m in \u001b[0;36mconvertTimes\u001b[1;34m(df)\u001b[0m\n\u001b[0;32m      1\u001b[0m \u001b[1;32mdef\u001b[0m \u001b[0mconvertTimes\u001b[0m\u001b[1;33m(\u001b[0m\u001b[0mdf\u001b[0m\u001b[1;33m)\u001b[0m\u001b[1;33m:\u001b[0m\u001b[1;33m\u001b[0m\u001b[1;33m\u001b[0m\u001b[0m\n\u001b[0;32m      2\u001b[0m     \u001b[1;32mfor\u001b[0m \u001b[0mindex\u001b[0m\u001b[1;33m,\u001b[0m \u001b[0mrow\u001b[0m \u001b[1;32min\u001b[0m \u001b[0mdf\u001b[0m\u001b[1;33m.\u001b[0m\u001b[0miterrows\u001b[0m\u001b[1;33m(\u001b[0m\u001b[1;33m)\u001b[0m\u001b[1;33m:\u001b[0m\u001b[1;33m\u001b[0m\u001b[1;33m\u001b[0m\u001b[0m\n\u001b[1;32m----> 3\u001b[1;33m         \u001b[0mdf\u001b[0m\u001b[1;33m.\u001b[0m\u001b[0mat\u001b[0m\u001b[1;33m[\u001b[0m\u001b[0mindex\u001b[0m\u001b[1;33m,\u001b[0m \u001b[1;34m\"split time 1\"\u001b[0m\u001b[1;33m]\u001b[0m \u001b[1;33m=\u001b[0m \u001b[0mtimeToSeconds\u001b[0m\u001b[1;33m(\u001b[0m\u001b[0mrow\u001b[0m\u001b[1;33m[\u001b[0m\u001b[1;34m\"split time 1\"\u001b[0m\u001b[1;33m]\u001b[0m\u001b[1;33m)\u001b[0m\u001b[1;33m\u001b[0m\u001b[1;33m\u001b[0m\u001b[0m\n\u001b[0m\u001b[0;32m      4\u001b[0m         \u001b[0mdf\u001b[0m\u001b[1;33m.\u001b[0m\u001b[0mat\u001b[0m\u001b[1;33m[\u001b[0m\u001b[0mindex\u001b[0m\u001b[1;33m,\u001b[0m \u001b[1;34m\"split time 2\"\u001b[0m\u001b[1;33m]\u001b[0m \u001b[1;33m=\u001b[0m \u001b[0mtimeToSeconds\u001b[0m\u001b[1;33m(\u001b[0m\u001b[0mrow\u001b[0m\u001b[1;33m[\u001b[0m\u001b[1;34m\"split time 2\"\u001b[0m\u001b[1;33m]\u001b[0m\u001b[1;33m)\u001b[0m\u001b[1;33m\u001b[0m\u001b[1;33m\u001b[0m\u001b[0m\n\u001b[0;32m      5\u001b[0m         \u001b[0mdf\u001b[0m\u001b[1;33m.\u001b[0m\u001b[0mat\u001b[0m\u001b[1;33m[\u001b[0m\u001b[0mindex\u001b[0m\u001b[1;33m,\u001b[0m \u001b[1;34m\"split time 3\"\u001b[0m\u001b[1;33m]\u001b[0m \u001b[1;33m=\u001b[0m \u001b[0mtimeToSeconds\u001b[0m\u001b[1;33m(\u001b[0m\u001b[0mrow\u001b[0m\u001b[1;33m[\u001b[0m\u001b[1;34m\"split time 3\"\u001b[0m\u001b[1;33m]\u001b[0m\u001b[1;33m)\u001b[0m\u001b[1;33m\u001b[0m\u001b[1;33m\u001b[0m\u001b[0m\n",
      "\u001b[1;32m<ipython-input-20-739b5bec195d>\u001b[0m in \u001b[0;36mtimeToSeconds\u001b[1;34m(timestr)\u001b[0m\n\u001b[0;32m      3\u001b[0m     \u001b[1;32mfor\u001b[0m \u001b[0mfmt\u001b[0m \u001b[1;32min\u001b[0m \u001b[1;33m(\u001b[0m\u001b[1;34m\"%M:%S.%f\"\u001b[0m\u001b[1;33m,\u001b[0m \u001b[1;34m\"%S.%f\"\u001b[0m\u001b[1;33m,\u001b[0m \u001b[1;34m\"%S:%f\"\u001b[0m\u001b[1;33m,\u001b[0m \u001b[1;34m\"%M:%S:%f\"\u001b[0m\u001b[1;33m)\u001b[0m\u001b[1;33m:\u001b[0m\u001b[1;33m\u001b[0m\u001b[1;33m\u001b[0m\u001b[0m\n\u001b[0;32m      4\u001b[0m         \u001b[1;32mtry\u001b[0m\u001b[1;33m:\u001b[0m\u001b[1;33m\u001b[0m\u001b[1;33m\u001b[0m\u001b[0m\n\u001b[1;32m----> 5\u001b[1;33m             \u001b[0mt\u001b[0m \u001b[1;33m=\u001b[0m \u001b[0mdatetime\u001b[0m\u001b[1;33m.\u001b[0m\u001b[0mstrptime\u001b[0m\u001b[1;33m(\u001b[0m\u001b[0mtimestr\u001b[0m\u001b[1;33m,\u001b[0m \u001b[0mfmt\u001b[0m\u001b[1;33m)\u001b[0m\u001b[1;33m\u001b[0m\u001b[1;33m\u001b[0m\u001b[0m\n\u001b[0m\u001b[0;32m      6\u001b[0m             \u001b[0mseconds\u001b[0m \u001b[1;33m=\u001b[0m \u001b[1;33m(\u001b[0m\u001b[0mt\u001b[0m\u001b[1;33m.\u001b[0m\u001b[0mminute\u001b[0m \u001b[1;33m*\u001b[0m \u001b[1;36m60\u001b[0m\u001b[1;33m)\u001b[0m \u001b[1;33m+\u001b[0m \u001b[0mt\u001b[0m\u001b[1;33m.\u001b[0m\u001b[0msecond\u001b[0m \u001b[1;33m+\u001b[0m \u001b[1;33m(\u001b[0m\u001b[0mt\u001b[0m\u001b[1;33m.\u001b[0m\u001b[0mmicrosecond\u001b[0m \u001b[1;33m*\u001b[0m \u001b[1;36m1e-6\u001b[0m\u001b[1;33m)\u001b[0m\u001b[1;33m\u001b[0m\u001b[1;33m\u001b[0m\u001b[0m\n\u001b[0;32m      7\u001b[0m             \u001b[1;32mreturn\u001b[0m \u001b[0mround\u001b[0m\u001b[1;33m(\u001b[0m\u001b[0mseconds\u001b[0m\u001b[1;33m)\u001b[0m\u001b[1;33m\u001b[0m\u001b[1;33m\u001b[0m\u001b[0m\n",
      "\u001b[1;31mTypeError\u001b[0m: strptime() argument 1 must be str, not int"
     ]
    }
   ],
   "source": [
    "# Datum opschonen\n",
    "df = cleanColumns(df)\n",
    "# Datum opsplitens in verschillende columns\n",
    "df = splitDateInColumns(df)\n",
    "# Convert alle tijden naar seconden\n",
    "convertTimes(df)\n",
    "#Make columns of categorial columns\n",
    "df = createCompetitionColumns(df)\n",
    "\n",
    "df.to_csv(\"K2_MEN_DATASET.csv\")"
   ]
  },
  {
   "cell_type": "code",
   "execution_count": 11,
   "metadata": {},
   "outputs": [
    {
     "ename": "SyntaxError",
     "evalue": "invalid syntax (<ipython-input-11-cc1662bc6811>, line 1)",
     "output_type": "error",
     "traceback": [
      "\u001b[1;36m  File \u001b[1;32m\"<ipython-input-11-cc1662bc6811>\"\u001b[1;36m, line \u001b[1;32m1\u001b[0m\n\u001b[1;33m    def create_tactic_columns:\u001b[0m\n\u001b[1;37m                             ^\u001b[0m\n\u001b[1;31mSyntaxError\u001b[0m\u001b[1;31m:\u001b[0m invalid syntax\n"
     ]
    }
   ],
   "source": [
    "def create_tactic_columns:\n",
    "    #Fast/Neutral/Slow Start?\n",
    "    #Fast/Neutral/Slow  Middle?\n",
    "    #Fast/Neutral/Slow End? "
   ]
  },
  {
   "cell_type": "code",
   "execution_count": null,
   "metadata": {},
   "outputs": [],
   "source": [
    "def createRaceIndex():\n"
   ]
  },
  {
   "cell_type": "code",
   "execution_count": null,
   "metadata": {},
   "outputs": [],
   "source": [
    "def createPb_TimecurrentSeason():\n"
   ]
  },
  {
   "cell_type": "code",
   "execution_count": null,
   "metadata": {},
   "outputs": [],
   "source": [
    "def create_Pb_Rank_currentSeason():"
   ]
  },
  {
   "cell_type": "code",
   "execution_count": null,
   "metadata": {},
   "outputs": [],
   "source": [
    "def create_Reached_FinalA():\n",
    "    "
   ]
  },
  {
   "cell_type": "code",
   "execution_count": null,
   "metadata": {},
   "outputs": [],
   "source": [
    "def create_AVG_Rank_currentSeason():\n",
    "    "
   ]
  },
  {
   "cell_type": "code",
   "execution_count": null,
   "metadata": {},
   "outputs": [],
   "source": [
    "def create_Reached_Semi():"
   ]
  },
  {
   "cell_type": "code",
   "execution_count": null,
   "metadata": {},
   "outputs": [],
   "source": [
    "def create_FinalRank():"
   ]
  },
  {
   "cell_type": "code",
   "execution_count": null,
   "metadata": {},
   "outputs": [],
   "source": [
    "def create_count_FinalA_currentSeason():\n",
    "    "
   ]
  },
  {
   "cell_type": "code",
   "execution_count": null,
   "metadata": {},
   "outputs": [],
   "source": [
    "def create_FinalARatio_currentSeason():\n",
    "    "
   ]
  }
 ],
 "metadata": {
  "file_extension": ".py",
  "kernelspec": {
   "display_name": "Python 3",
   "language": "python",
   "name": "python3"
  },
  "language_info": {
   "codemirror_mode": {
    "name": "ipython",
    "version": 3
   },
   "file_extension": ".py",
   "mimetype": "text/x-python",
   "name": "python",
   "nbconvert_exporter": "python",
   "pygments_lexer": "ipython3",
   "version": "3.7.5"
  },
  "mimetype": "text/x-python",
  "name": "python",
  "npconvert_exporter": "python",
  "pygments_lexer": "ipython3",
  "version": 3
 },
 "nbformat": 4,
 "nbformat_minor": 4
}
